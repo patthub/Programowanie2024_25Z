{
  "nbformat": 4,
  "nbformat_minor": 0,
  "metadata": {
    "colab": {
      "provenance": []
    },
    "kernelspec": {
      "name": "python3",
      "display_name": "Python 3"
    },
    "language_info": {
      "name": "python"
    }
  },
  "cells": [
    {
      "cell_type": "code",
      "execution_count": null,
      "metadata": {
        "colab": {
          "base_uri": "https://localhost:8080/"
        },
        "id": "JFd5dfsijs8J",
        "outputId": "9bee5d69-7114-4c4b-e1fb-c34444cc4ca2"
      },
      "outputs": [
        {
          "output_type": "stream",
          "name": "stdout",
          "text": [
            "Hello World!\n"
          ]
        }
      ],
      "source": [
        "print(\"Hello World!\")"
      ]
    },
    {
      "cell_type": "code",
      "source": [
        "print(\"Cześc, mam na imię Patryk\")"
      ],
      "metadata": {
        "colab": {
          "base_uri": "https://localhost:8080/"
        },
        "id": "JR7baCV-nZ0e",
        "outputId": "12c6b658-23d6-446a-a838-4d465cfa19bd"
      },
      "execution_count": null,
      "outputs": [
        {
          "output_type": "stream",
          "name": "stdout",
          "text": [
            "Cześc, mam na imię Patryk\n"
          ]
        }
      ]
    },
    {
      "cell_type": "code",
      "source": [
        "print(12)"
      ],
      "metadata": {
        "colab": {
          "base_uri": "https://localhost:8080/"
        },
        "id": "CrHXXtcbnsxO",
        "outputId": "fe8af147-3ace-486d-9e84-ea5105005f56"
      },
      "execution_count": null,
      "outputs": [
        {
          "output_type": "stream",
          "name": "stdout",
          "text": [
            "12\n"
          ]
        }
      ]
    },
    {
      "cell_type": "code",
      "source": [
        "#Typy danych\n",
        "\n",
        "#Typy danych liczbowych\n",
        "\n",
        "#Liczby całkowite -- Integer (int)\n",
        "\n",
        "# 12\n",
        "# 2512612616\n",
        "# 1\n",
        "\n",
        "# Liczby rzeczywiste -- Float\n",
        "\n",
        "# 12.5\n",
        "\n",
        "# 124124241.124124124124\n",
        "\n",
        "\n",
        "# dane tekstowe (napisy) -- String (str)\n",
        "\n",
        "\"Patryk\"\n",
        "\"Uniwersytet Warszawski\"\n",
        "\"Nowy Świat 69\"\n",
        "\"12\"\n",
        "\"12.5\""
      ],
      "metadata": {
        "id": "dHqg6K6Jn2gW"
      },
      "execution_count": null,
      "outputs": []
    },
    {
      "cell_type": "code",
      "source": [
        "12 + 12"
      ],
      "metadata": {
        "colab": {
          "base_uri": "https://localhost:8080/"
        },
        "id": "TGLIfL2YqpY-",
        "outputId": "93a63d2d-d76c-4434-d18e-7366bb64b204"
      },
      "execution_count": null,
      "outputs": [
        {
          "output_type": "execute_result",
          "data": {
            "text/plain": [
              "24"
            ]
          },
          "metadata": {},
          "execution_count": 17
        }
      ]
    },
    {
      "cell_type": "code",
      "source": [
        "12.5 + 12.5"
      ],
      "metadata": {
        "colab": {
          "base_uri": "https://localhost:8080/"
        },
        "id": "Xzyd2VZsq7md",
        "outputId": "675abde1-1b37-4f86-d914-08e5d455ff4d"
      },
      "execution_count": null,
      "outputs": [
        {
          "output_type": "execute_result",
          "data": {
            "text/plain": [
              "25.0"
            ]
          },
          "metadata": {},
          "execution_count": 18
        }
      ]
    },
    {
      "cell_type": "code",
      "source": [
        "12.0 + 12.5"
      ],
      "metadata": {
        "colab": {
          "base_uri": "https://localhost:8080/"
        },
        "id": "EDubwMOTrCz9",
        "outputId": "1c8d997f-3245-4e6c-84a3-9431e4995cfc"
      },
      "execution_count": null,
      "outputs": [
        {
          "output_type": "execute_result",
          "data": {
            "text/plain": [
              "24.5"
            ]
          },
          "metadata": {},
          "execution_count": 19
        }
      ]
    },
    {
      "cell_type": "code",
      "source": [
        "\"12\" + \"Patryk\""
      ],
      "metadata": {
        "colab": {
          "base_uri": "https://localhost:8080/",
          "height": 55
        },
        "id": "INY_ydBMrM43",
        "outputId": "aa53c184-ebca-41aa-f77d-6a5aa0c6cf6b"
      },
      "execution_count": null,
      "outputs": [
        {
          "output_type": "execute_result",
          "data": {
            "text/plain": [
              "'12Patryk'"
            ],
            "application/vnd.google.colaboratory.intrinsic+json": {
              "type": "string"
            }
          },
          "metadata": {},
          "execution_count": 21
        }
      ]
    },
    {
      "cell_type": "code",
      "source": [
        "12 + \"12\""
      ],
      "metadata": {
        "colab": {
          "base_uri": "https://localhost:8080/",
          "height": 162
        },
        "collapsed": true,
        "id": "WMaXAKt1reEm",
        "outputId": "fbc591cb-d19d-4cf9-d68d-2876f9c61024"
      },
      "execution_count": null,
      "outputs": [
        {
          "output_type": "error",
          "ename": "TypeError",
          "evalue": "unsupported operand type(s) for +: 'int' and 'str'",
          "traceback": [
            "\u001b[0;31m---------------------------------------------------------------------------\u001b[0m",
            "\u001b[0;31mTypeError\u001b[0m                                 Traceback (most recent call last)",
            "\u001b[0;32m<ipython-input-22-0b45f8d006be>\u001b[0m in \u001b[0;36m<cell line: 1>\u001b[0;34m()\u001b[0m\n\u001b[0;32m----> 1\u001b[0;31m \u001b[0;36m12\u001b[0m \u001b[0;34m+\u001b[0m \u001b[0;34m\"12\"\u001b[0m\u001b[0;34m\u001b[0m\u001b[0;34m\u001b[0m\u001b[0m\n\u001b[0m",
            "\u001b[0;31mTypeError\u001b[0m: unsupported operand type(s) for +: 'int' and 'str'"
          ]
        }
      ]
    },
    {
      "cell_type": "code",
      "source": [
        "#Dane Boolean\n",
        "True - 1\n",
        "False - 0"
      ],
      "metadata": {
        "id": "aBqntvY5sHg1"
      },
      "execution_count": null,
      "outputs": []
    },
    {
      "cell_type": "code",
      "source": [
        "#Operacje matematyczne\n",
        "\n",
        "#Dodawanie\n",
        "12 + 12\n",
        "\n",
        "#Odejmowanie\n",
        "12 - 12\n",
        "\n",
        "#Mnożenie\n",
        "12 * 12\n",
        "\n",
        "#Dzielenie\n",
        "12 / 12\n",
        "\n",
        "#Potęgowanie\n",
        "12 ** 12\n",
        "\n",
        "#Reszta z dzielenia\n",
        "\n",
        "12 % 12 #-- operator MODULO zwraca reszte z dzielenia\n"
      ],
      "metadata": {
        "id": "XfWOuncGsuoF"
      },
      "execution_count": null,
      "outputs": []
    },
    {
      "cell_type": "code",
      "source": [
        "#Zmienne\n",
        "\n",
        "imie = \"Patryk\"\n",
        "\n",
        "print(imie)\n",
        "\n",
        "wiek = 30\n",
        "\n",
        "#numer telefonu = \"1234125215\" ŹLE\n",
        "#Dobrze\n",
        "\n",
        "#CamelCase\n",
        "\n",
        "numerTelefonu = \"1234125215\"\n",
        "\n",
        "#snake_case\n",
        "\n",
        "numer_telefonu = \"1234125215\"\n",
        "\n",
        "#Case sensitive\n",
        "\n",
        "imie = \"Patryk\"\n",
        "Imie = \"Patryk\"\n",
        "# Nie nazywamy zmiennych nazwami poleceń\n"
      ],
      "metadata": {
        "id": "DViEWHVWt2S1"
      },
      "execution_count": null,
      "outputs": []
    },
    {
      "cell_type": "code",
      "source": [
        "#Operatory porównania\n",
        "\n",
        "x = 12\n",
        "y = 15"
      ],
      "metadata": {
        "id": "ot8yEAEOtmZe"
      },
      "execution_count": null,
      "outputs": []
    },
    {
      "cell_type": "code",
      "source": [
        "x == y"
      ],
      "metadata": {
        "colab": {
          "base_uri": "https://localhost:8080/"
        },
        "id": "VY-IGLNKwwaV",
        "outputId": "2bffe2cb-815b-4fed-a3ad-f1204c30bafc"
      },
      "execution_count": null,
      "outputs": [
        {
          "output_type": "execute_result",
          "data": {
            "text/plain": [
              "False"
            ]
          },
          "metadata": {},
          "execution_count": 29
        }
      ]
    },
    {
      "cell_type": "code",
      "source": [
        "x != y"
      ],
      "metadata": {
        "colab": {
          "base_uri": "https://localhost:8080/"
        },
        "id": "AlyTpK4fw2PM",
        "outputId": "0b3ac61a-a2e2-49fa-9681-1d6724acf997"
      },
      "execution_count": null,
      "outputs": [
        {
          "output_type": "execute_result",
          "data": {
            "text/plain": [
              "True"
            ]
          },
          "metadata": {},
          "execution_count": 30
        }
      ]
    },
    {
      "cell_type": "code",
      "source": [
        "x > y"
      ],
      "metadata": {
        "colab": {
          "base_uri": "https://localhost:8080/"
        },
        "id": "yoN57G6GxAxF",
        "outputId": "51a46e61-23ca-464f-f49e-aef23957fbf0"
      },
      "execution_count": null,
      "outputs": [
        {
          "output_type": "execute_result",
          "data": {
            "text/plain": [
              "False"
            ]
          },
          "metadata": {},
          "execution_count": 31
        }
      ]
    },
    {
      "cell_type": "code",
      "source": [
        "x < y"
      ],
      "metadata": {
        "colab": {
          "base_uri": "https://localhost:8080/"
        },
        "id": "GwvfFuwzxDvt",
        "outputId": "e79e493f-cf7c-4a87-95ef-96838c80ba2c"
      },
      "execution_count": null,
      "outputs": [
        {
          "output_type": "execute_result",
          "data": {
            "text/plain": [
              "True"
            ]
          },
          "metadata": {},
          "execution_count": 32
        }
      ]
    },
    {
      "cell_type": "code",
      "source": [
        "x >= y"
      ],
      "metadata": {
        "colab": {
          "base_uri": "https://localhost:8080/"
        },
        "id": "GJY7t1NBxFs1",
        "outputId": "2e31c5b5-3041-436d-c031-2a706bf37fae"
      },
      "execution_count": null,
      "outputs": [
        {
          "output_type": "execute_result",
          "data": {
            "text/plain": [
              "False"
            ]
          },
          "metadata": {},
          "execution_count": 33
        }
      ]
    },
    {
      "cell_type": "code",
      "source": [
        "x <= y"
      ],
      "metadata": {
        "colab": {
          "base_uri": "https://localhost:8080/"
        },
        "id": "QsZoaYs-xJ-1",
        "outputId": "a0754ea9-8573-499f-fcc9-92c7e188ce43"
      },
      "execution_count": null,
      "outputs": [
        {
          "output_type": "execute_result",
          "data": {
            "text/plain": [
              "True"
            ]
          },
          "metadata": {},
          "execution_count": 35
        }
      ]
    },
    {
      "cell_type": "code",
      "source": [
        "1 == 1.0"
      ],
      "metadata": {
        "colab": {
          "base_uri": "https://localhost:8080/"
        },
        "id": "YYKh_pikxQG-",
        "outputId": "d4b8c1c7-bab0-4a3e-fc7c-b85513d320ff"
      },
      "execution_count": null,
      "outputs": [
        {
          "output_type": "execute_result",
          "data": {
            "text/plain": [
              "True"
            ]
          },
          "metadata": {},
          "execution_count": 36
        }
      ]
    },
    {
      "cell_type": "code",
      "source": [
        "1 == \"1\""
      ],
      "metadata": {
        "colab": {
          "base_uri": "https://localhost:8080/"
        },
        "id": "2bHXYegIxYyd",
        "outputId": "900eba0e-155a-4094-e9d2-c030c53051cb"
      },
      "execution_count": null,
      "outputs": [
        {
          "output_type": "execute_result",
          "data": {
            "text/plain": [
              "False"
            ]
          },
          "metadata": {},
          "execution_count": 37
        }
      ]
    },
    {
      "cell_type": "code",
      "source": [
        "type(x)"
      ],
      "metadata": {
        "colab": {
          "base_uri": "https://localhost:8080/"
        },
        "id": "q9Zm9u_1xjWN",
        "outputId": "4dbb0066-a1e6-4e14-bdc4-242e99b39568"
      },
      "execution_count": null,
      "outputs": [
        {
          "output_type": "execute_result",
          "data": {
            "text/plain": [
              "int"
            ]
          },
          "metadata": {},
          "execution_count": 43
        }
      ]
    }
  ]
}