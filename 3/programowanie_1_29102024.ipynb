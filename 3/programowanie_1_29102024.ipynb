{
  "nbformat": 4,
  "nbformat_minor": 0,
  "metadata": {
    "colab": {
      "provenance": []
    },
    "kernelspec": {
      "name": "python3",
      "display_name": "Python 3"
    },
    "language_info": {
      "name": "python"
    }
  },
  "cells": [
    {
      "cell_type": "code",
      "execution_count": null,
      "metadata": {
        "colab": {
          "base_uri": "https://localhost:8080/"
        },
        "collapsed": true,
        "id": "ybmnUKiV0K5-",
        "outputId": "3b93b588-2a54-4067-d2f4-33b5852fd583"
      },
      "outputs": [
        {
          "output_type": "stream",
          "name": "stdout",
          "text": [
            "ęcia z pro\n",
            "Uwielbiam zajęcia z programowania\n",
            "wlazęa oawi\n",
            "False\n",
            "True\n",
            "biały to mój ulubiony kolor, niestety kolor biały bardzo szybko spiera się z moich ubrań\n",
            "Biały to mój ulubiony kolor, niestety kolor biały bardzo szybko spiera się z moich ubrań\n"
          ]
        }
      ],
      "source": [
        "zmienna1 = \"Uwielbiam zajęcia z programowania\"\n",
        "\n",
        "print(zmienna1[13:23])\n",
        "\n",
        "print(zmienna1[-33:])\n",
        "\n",
        "print(zmienna1[1::3])\n",
        "\n",
        "\n",
        "zmienna2 = \"Czarny to mój ulubiony kolor, niestety kolor czarny bardzo szybko spiera się z moich ubrań\"\n",
        "\n",
        "print(zmienna2.istitle())\n",
        "\n",
        "print(zmienna2.startswith(\"C\"))\n",
        "\n",
        "zmienna2 = zmienna2.lower()\n",
        "zmienna2 = zmienna2.replace(\"czarny\", \"biały\")\n",
        "zmienna2 = zmienna2.capitalize()\n",
        "\n",
        "zmienna2 = zmienna2.lower().replace(\"czarny\", \"biały\").capitalize()"
      ]
    },
    {
      "cell_type": "code",
      "source": [
        "#Input użytkownika\n",
        "\n",
        "name = input(\"Jak masz na imię? \")"
      ],
      "metadata": {
        "colab": {
          "base_uri": "https://localhost:8080/"
        },
        "id": "waD0FfNi4DFP",
        "outputId": "d16b985e-de26-41e6-fcbd-554c2949f23e"
      },
      "execution_count": null,
      "outputs": [
        {
          "name": "stdout",
          "output_type": "stream",
          "text": [
            "Jak masz na imię? Patryk\n"
          ]
        }
      ]
    },
    {
      "cell_type": "code",
      "source": [
        "print(name)"
      ],
      "metadata": {
        "colab": {
          "base_uri": "https://localhost:8080/"
        },
        "id": "VWiHpp50428c",
        "outputId": "4c4bcf1c-75a7-4160-9149-80b68c1aae96"
      },
      "execution_count": null,
      "outputs": [
        {
          "output_type": "stream",
          "name": "stdout",
          "text": [
            "Patryk\n"
          ]
        }
      ]
    },
    {
      "cell_type": "code",
      "source": [
        "type(name)"
      ],
      "metadata": {
        "colab": {
          "base_uri": "https://localhost:8080/"
        },
        "id": "Gh_fahXV5HSb",
        "outputId": "04b0bad9-c77a-482b-9416-89d3a4a0e98c"
      },
      "execution_count": null,
      "outputs": [
        {
          "output_type": "execute_result",
          "data": {
            "text/plain": [
              "str"
            ]
          },
          "metadata": {},
          "execution_count": 22
        }
      ]
    },
    {
      "cell_type": "code",
      "source": [
        "age = input(\"Ile masz lat? \")"
      ],
      "metadata": {
        "colab": {
          "base_uri": "https://localhost:8080/"
        },
        "id": "g3_TJUQr5MzO",
        "outputId": "e75a802d-b4f3-4fe2-ad1f-1c3a67e3e901"
      },
      "execution_count": null,
      "outputs": [
        {
          "name": "stdout",
          "output_type": "stream",
          "text": [
            "Ile masz lat? 31\n"
          ]
        }
      ]
    },
    {
      "cell_type": "code",
      "source": [
        "type(age)"
      ],
      "metadata": {
        "colab": {
          "base_uri": "https://localhost:8080/"
        },
        "id": "xC_9HKpI5XEE",
        "outputId": "9124de22-9fa3-4bbb-c91a-9c86ca651039"
      },
      "execution_count": null,
      "outputs": [
        {
          "output_type": "execute_result",
          "data": {
            "text/plain": [
              "str"
            ]
          },
          "metadata": {},
          "execution_count": 24
        }
      ]
    },
    {
      "cell_type": "code",
      "source": [
        "age.isdigit()"
      ],
      "metadata": {
        "colab": {
          "base_uri": "https://localhost:8080/"
        },
        "id": "cWUSwTTJ5scw",
        "outputId": "a4a4c924-e82f-4622-9588-c0d7136b21f7"
      },
      "execution_count": null,
      "outputs": [
        {
          "output_type": "execute_result",
          "data": {
            "text/plain": [
              "True"
            ]
          },
          "metadata": {},
          "execution_count": 25
        }
      ]
    },
    {
      "cell_type": "code",
      "source": [
        "name.isdigit()"
      ],
      "metadata": {
        "colab": {
          "base_uri": "https://localhost:8080/"
        },
        "id": "Om8VhZs05287",
        "outputId": "89881c8d-bcc8-4a92-c2c0-1d104598595e"
      },
      "execution_count": null,
      "outputs": [
        {
          "output_type": "execute_result",
          "data": {
            "text/plain": [
              "False"
            ]
          },
          "metadata": {},
          "execution_count": 26
        }
      ]
    },
    {
      "cell_type": "code",
      "source": [
        "age_int = int(age)"
      ],
      "metadata": {
        "id": "RLLZT72D6D-d"
      },
      "execution_count": null,
      "outputs": []
    },
    {
      "cell_type": "code",
      "source": [
        "type(age_int)"
      ],
      "metadata": {
        "colab": {
          "base_uri": "https://localhost:8080/"
        },
        "id": "YULaimhr6QOV",
        "outputId": "3fd20a07-ea36-4efa-fcc7-fea9c5d5c442"
      },
      "execution_count": null,
      "outputs": [
        {
          "output_type": "execute_result",
          "data": {
            "text/plain": [
              "int"
            ]
          },
          "metadata": {},
          "execution_count": 28
        }
      ]
    },
    {
      "cell_type": "code",
      "source": [
        "age_int"
      ],
      "metadata": {
        "colab": {
          "base_uri": "https://localhost:8080/"
        },
        "id": "E3IO8POJ6T4z",
        "outputId": "24363e8b-0b10-4e93-f8e5-28935029fd59"
      },
      "execution_count": null,
      "outputs": [
        {
          "output_type": "execute_result",
          "data": {
            "text/plain": [
              "31"
            ]
          },
          "metadata": {},
          "execution_count": 29
        }
      ]
    },
    {
      "cell_type": "code",
      "source": [
        "age_popsuty = input(\"Ile masz lat? \")"
      ],
      "metadata": {
        "colab": {
          "base_uri": "https://localhost:8080/"
        },
        "id": "bQLy0qqR6W4b",
        "outputId": "17ab31c2-439f-484f-8539-e2442b2522f8"
      },
      "execution_count": null,
      "outputs": [
        {
          "name": "stdout",
          "output_type": "stream",
          "text": [
            "Ile masz lat? mam 31 lat\n"
          ]
        }
      ]
    },
    {
      "cell_type": "code",
      "source": [
        "age_popsuty_int = int(age_popsuty)"
      ],
      "metadata": {
        "colab": {
          "base_uri": "https://localhost:8080/",
          "height": 163
        },
        "collapsed": true,
        "id": "7UW3LPWM6i5L",
        "outputId": "2396730b-a7ae-420d-dcec-afdaebe38319"
      },
      "execution_count": null,
      "outputs": [
        {
          "output_type": "error",
          "ename": "ValueError",
          "evalue": "invalid literal for int() with base 10: 'mam 31 lat'",
          "traceback": [
            "\u001b[0;31m---------------------------------------------------------------------------\u001b[0m",
            "\u001b[0;31mValueError\u001b[0m                                Traceback (most recent call last)",
            "\u001b[0;32m<ipython-input-31-5f34ae4c97c6>\u001b[0m in \u001b[0;36m<cell line: 1>\u001b[0;34m()\u001b[0m\n\u001b[0;32m----> 1\u001b[0;31m \u001b[0mage_popsuty_int\u001b[0m \u001b[0;34m=\u001b[0m \u001b[0mint\u001b[0m\u001b[0;34m(\u001b[0m\u001b[0mage_popsuty\u001b[0m\u001b[0;34m)\u001b[0m\u001b[0;34m\u001b[0m\u001b[0;34m\u001b[0m\u001b[0m\n\u001b[0m",
            "\u001b[0;31mValueError\u001b[0m: invalid literal for int() with base 10: 'mam 31 lat'"
          ]
        }
      ]
    },
    {
      "cell_type": "code",
      "source": [
        "age_popsuty.isdigit()"
      ],
      "metadata": {
        "colab": {
          "base_uri": "https://localhost:8080/"
        },
        "id": "fhI6XgOa60KM",
        "outputId": "001fae14-0e15-417d-fc64-146a9360eefa"
      },
      "execution_count": null,
      "outputs": [
        {
          "output_type": "execute_result",
          "data": {
            "text/plain": [
              "False"
            ]
          },
          "metadata": {},
          "execution_count": 32
        }
      ]
    },
    {
      "cell_type": "code",
      "source": [
        "#Instrukcje warunkowe\n",
        "\n",
        "#jeżeli jakiś warunek jest spełniony\n",
        "#  to zrób coś\n",
        "#a jeżeli nie\n",
        "#  to zrób coś innego\n",
        "\n",
        "liczba = 879879\n",
        "\n",
        "if liczba > 10:\n",
        "  print(\"Liczba jest większa od 10\")\n",
        "elif liczba < 10:\n",
        "  print(\"Liczba jest mniejsza od 10\")\n",
        "elif liczba == 10:\n",
        "  print(\"Liczba jest równa 10\")\n",
        "elif liczba == 10:\n",
        "  print(\"OLOLOLO\")\n",
        "else:\n",
        "  print(\"Blabla\")\n",
        "\n"
      ],
      "metadata": {
        "colab": {
          "base_uri": "https://localhost:8080/"
        },
        "collapsed": true,
        "id": "AQewujD87Y8U",
        "outputId": "c8df7677-09b8-43aa-911c-bce4e01fb720"
      },
      "execution_count": null,
      "outputs": [
        {
          "output_type": "stream",
          "name": "stdout",
          "text": [
            "Liczba jest większa od 10\n"
          ]
        }
      ]
    },
    {
      "cell_type": "code",
      "source": [
        "ciag_liczbowy = \"123\"\n",
        "\n",
        "if ciag_liczbowy.isdigit() and len(ciag_liczbowy) > 3:\n",
        "  print(\"zmienna jest liczbą i jest dłuższa niż 3 znaki\")\n",
        "elif ciag_liczbowy.isdigit() and len(ciag_liczbowy) < 3:\n",
        "  print(\"zmienna jest liczbą i jest krótsza niż 3 znaki\")\n",
        "else:\n",
        "  print(\"blabla\")"
      ],
      "metadata": {
        "colab": {
          "base_uri": "https://localhost:8080/"
        },
        "id": "OEfYVQ5C-6Zz",
        "outputId": "7866162a-2e2b-46b3-8ecf-b83f0ee29025"
      },
      "execution_count": null,
      "outputs": [
        {
          "output_type": "stream",
          "name": "stdout",
          "text": [
            "blabla\n"
          ]
        }
      ]
    },
    {
      "cell_type": "code",
      "source": [
        "ciag_liczbowy = \"123\"\n",
        "\n",
        "if ciag_liczbowy.isdigit() or len(ciag_liczbowy) > 3:\n",
        "  print(\"zmienna jest liczbą lub jest dłuższa niż 3 znaki\")"
      ],
      "metadata": {
        "colab": {
          "base_uri": "https://localhost:8080/"
        },
        "id": "ZndhCpT-AYFE",
        "outputId": "50e2e169-ae52-4681-8506-fbee1ba18c9e"
      },
      "execution_count": null,
      "outputs": [
        {
          "output_type": "stream",
          "name": "stdout",
          "text": [
            "zmienna jest liczbą lub jest dłuższa niż 3 znaki\n"
          ]
        }
      ]
    },
    {
      "cell_type": "code",
      "source": [
        "age_string = input(\"Ile masz lat? \")\n",
        "\n",
        "if age_string.isdigit():\n",
        "  age_int = int(age_string)\n",
        "  print(age_int)\n",
        "  print(\"Brawo dałeś dobre dane\")\n",
        "else:\n",
        "  print(\"Błędne dane użytkowniku hola hola\")"
      ],
      "metadata": {
        "colab": {
          "base_uri": "https://localhost:8080/"
        },
        "collapsed": true,
        "id": "ZuI4r8qXA13U",
        "outputId": "c85c6c03-1ea5-4b7b-8c55-9889b93f26de"
      },
      "execution_count": null,
      "outputs": [
        {
          "output_type": "stream",
          "name": "stdout",
          "text": [
            "Ile masz lat? lalalala\n",
            "Błędne dane użytkowniku hola hola\n"
          ]
        }
      ]
    },
    {
      "cell_type": "code",
      "source": [
        "napis = \"Ala ma kota\"\n",
        "\n",
        "if len(napis) > 5:\n",
        "  if napis.isdigit():\n",
        "    print(\"Długość napisu jest większa niż 5 i jest liczbą\")\n",
        "  else:\n",
        "    print(\"Długość napisu jest większa niż 5\")\n",
        "else:\n",
        "  print(\"Długość napisu jest mniejsza lub równa 5\")"
      ],
      "metadata": {
        "id": "HvLB9B2wCkO0"
      },
      "execution_count": null,
      "outputs": []
    }
  ]
}