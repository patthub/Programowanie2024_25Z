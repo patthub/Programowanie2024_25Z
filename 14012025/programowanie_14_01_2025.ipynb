{
  "nbformat": 4,
  "nbformat_minor": 0,
  "metadata": {
    "colab": {
      "provenance": []
    },
    "kernelspec": {
      "name": "python3",
      "display_name": "Python 3"
    },
    "language_info": {
      "name": "python"
    }
  },
  "cells": [
    {
      "cell_type": "code",
      "execution_count": null,
      "metadata": {
        "id": "RvUHTZ1_XrN_"
      },
      "outputs": [],
      "source": [
        "!python -m spacy download pl_core_news_sm"
      ]
    },
    {
      "cell_type": "code",
      "source": [
        "import spacy"
      ],
      "metadata": {
        "id": "4ma2sdbyY53j"
      },
      "execution_count": null,
      "outputs": []
    },
    {
      "cell_type": "code",
      "source": [
        "nlp = spacy.load(\"pl_core_news_sm\")"
      ],
      "metadata": {
        "id": "MNIK0V-wY7Uz"
      },
      "execution_count": null,
      "outputs": []
    },
    {
      "cell_type": "code",
      "source": [
        "text = \"Patryk pracuje na Uniwersytecie Warszawskim w Warszawie\""
      ],
      "metadata": {
        "id": "4Kz_P9DWZFyb"
      },
      "execution_count": null,
      "outputs": []
    },
    {
      "cell_type": "code",
      "source": [
        "doc = nlp(text)"
      ],
      "metadata": {
        "id": "4LB__jtHZKbT"
      },
      "execution_count": null,
      "outputs": []
    },
    {
      "cell_type": "code",
      "source": [
        "type(doc)"
      ],
      "metadata": {
        "colab": {
          "base_uri": "https://localhost:8080/"
        },
        "id": "j5lFaHwgZQrz",
        "outputId": "4cdb4ef2-79db-4df7-f05b-48ff4169ee91"
      },
      "execution_count": null,
      "outputs": [
        {
          "output_type": "execute_result",
          "data": {
            "text/plain": [
              "spacy.tokens.doc.Doc"
            ]
          },
          "metadata": {},
          "execution_count": 5
        }
      ]
    },
    {
      "cell_type": "code",
      "source": [
        "for token in doc:\n",
        "  print(token.text, token.lemma_, token.pos_, token.tag_, token.shape_, token.is_stop)"
      ],
      "metadata": {
        "colab": {
          "base_uri": "https://localhost:8080/"
        },
        "id": "fWJqYoFoZZVa",
        "outputId": "1ebca1a9-7834-4a24-e523-aab6c4132b00"
      },
      "execution_count": null,
      "outputs": [
        {
          "output_type": "stream",
          "name": "stdout",
          "text": [
            "Patryk patryk PROPN SUBST Xxxxx False\n",
            "pracuje pracować VERB FIN xxxx False\n",
            "na na ADP PREP xx True\n",
            "Uniwersytecie Uniwersytecie NOUN SUBST Xxxxx False\n",
            "Warszawskim warszawski ADJ ADJ Xxxxx False\n",
            "w w ADP PREP x True\n",
            "Warszawie Warszawa PROPN SUBST Xxxxx False\n"
          ]
        }
      ]
    },
    {
      "cell_type": "code",
      "source": [
        "for ent in doc.ents:\n",
        "  print(ent.text, ent.label_)"
      ],
      "metadata": {
        "id": "J081sY7qaJOL"
      },
      "execution_count": null,
      "outputs": []
    },
    {
      "cell_type": "code",
      "source": [
        "import json\n",
        "import requests"
      ],
      "metadata": {
        "id": "pSk4nryVd7e1"
      },
      "execution_count": null,
      "outputs": []
    },
    {
      "cell_type": "code",
      "source": [
        "json_path = \"/content/simple_data.json\""
      ],
      "metadata": {
        "id": "Tb-ME6QDdVxo"
      },
      "execution_count": null,
      "outputs": []
    },
    {
      "cell_type": "code",
      "source": [
        "with open(json_path, mode = \"r\", encoding = \"utf-8\") as file:\n",
        "  json_data = json.load(file)\n",
        "\n"
      ],
      "metadata": {
        "id": "SDIq_FtveLPL"
      },
      "execution_count": null,
      "outputs": []
    },
    {
      "cell_type": "code",
      "source": [
        "type(json_data)"
      ],
      "metadata": {
        "colab": {
          "base_uri": "https://localhost:8080/"
        },
        "id": "La2OSvpOfV1A",
        "outputId": "db263447-3c52-462b-9f21-6cb43cba1895"
      },
      "execution_count": null,
      "outputs": [
        {
          "output_type": "execute_result",
          "data": {
            "text/plain": [
              "dict"
            ]
          },
          "metadata": {},
          "execution_count": 19
        }
      ]
    },
    {
      "cell_type": "code",
      "source": [
        "json_data[\"email\"]"
      ],
      "metadata": {
        "colab": {
          "base_uri": "https://localhost:8080/",
          "height": 35
        },
        "id": "Jo_egE8Gfpqf",
        "outputId": "3958cd9f-5443-4aba-d4ac-59a74c1140c6"
      },
      "execution_count": null,
      "outputs": [
        {
          "output_type": "execute_result",
          "data": {
            "text/plain": [
              "'john.doe@example.com'"
            ],
            "application/vnd.google.colaboratory.intrinsic+json": {
              "type": "string"
            }
          },
          "metadata": {},
          "execution_count": 23
        }
      ]
    },
    {
      "cell_type": "code",
      "source": [
        "with open(\"/content/query.json\", mode = \"r\", encoding = \"utf-8\") as file:\n",
        "  query_data = json.load(file)"
      ],
      "metadata": {
        "id": "oWQKUkWqgFlv"
      },
      "execution_count": null,
      "outputs": []
    },
    {
      "cell_type": "code",
      "source": [
        "query_data[\"results\"][\"bindings\"][0][\"horseLabel\"][\"value\"]"
      ],
      "metadata": {
        "colab": {
          "base_uri": "https://localhost:8080/",
          "height": 35
        },
        "id": "QMfNbUotgNmI",
        "outputId": "e39e5750-f253-48f0-8709-59043f40e8cb"
      },
      "execution_count": null,
      "outputs": [
        {
          "output_type": "execute_result",
          "data": {
            "text/plain": [
              "'Gazal al Shaqab'"
            ],
            "application/vnd.google.colaboratory.intrinsic+json": {
              "type": "string"
            }
          },
          "metadata": {},
          "execution_count": 31
        }
      ]
    },
    {
      "cell_type": "code",
      "source": [
        "query_data"
      ],
      "metadata": {
        "id": "S6PfuS3qjSJG"
      },
      "execution_count": null,
      "outputs": []
    },
    {
      "cell_type": "code",
      "source": [
        "import requests"
      ],
      "metadata": {
        "id": "T_NGGNsYkZuO"
      },
      "execution_count": null,
      "outputs": []
    },
    {
      "cell_type": "code",
      "source": [
        "BASE_URL = \"https://wolnelektury.pl/apafasfi/\"\n",
        "endpoint = \"kinds/\"\n",
        "url = f\"{BASE_URL}{endpoint}\""
      ],
      "metadata": {
        "id": "6cSN40ocloc1"
      },
      "execution_count": null,
      "outputs": []
    },
    {
      "cell_type": "code",
      "source": [
        "url"
      ],
      "metadata": {
        "colab": {
          "base_uri": "https://localhost:8080/",
          "height": 35
        },
        "id": "1IEYhdTTmmPM",
        "outputId": "3fe803dd-282b-444a-82d9-b5296df816b7"
      },
      "execution_count": null,
      "outputs": [
        {
          "output_type": "execute_result",
          "data": {
            "text/plain": [
              "'https://wolnelektury.pl/api/kinds/'"
            ],
            "application/vnd.google.colaboratory.intrinsic+json": {
              "type": "string"
            }
          },
          "metadata": {},
          "execution_count": 43
        }
      ]
    },
    {
      "cell_type": "code",
      "source": [
        "response = requests.get(url)"
      ],
      "metadata": {
        "id": "q_rui7yCnFbE"
      },
      "execution_count": null,
      "outputs": []
    },
    {
      "cell_type": "code",
      "source": [
        "response.status_code"
      ],
      "metadata": {
        "colab": {
          "base_uri": "https://localhost:8080/"
        },
        "id": "6kwIy5iQnxST",
        "outputId": "d3818de9-5868-4d6f-f669-2f07f7786fc9"
      },
      "execution_count": null,
      "outputs": [
        {
          "output_type": "execute_result",
          "data": {
            "text/plain": [
              "404"
            ]
          },
          "metadata": {},
          "execution_count": 62
        }
      ]
    },
    {
      "cell_type": "code",
      "source": [
        "if response.status_code == \"200\":\n",
        "  kinds_data = response.json()"
      ],
      "metadata": {
        "id": "JjEl37y-oQ30"
      },
      "execution_count": null,
      "outputs": []
    },
    {
      "cell_type": "code",
      "source": [
        "kinds_data"
      ],
      "metadata": {
        "id": "budgSccDoeDz"
      },
      "execution_count": null,
      "outputs": []
    }
  ]
}